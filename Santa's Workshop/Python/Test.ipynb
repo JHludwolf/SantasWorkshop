{
 "cells": [
  {
   "cell_type": "code",
   "execution_count": 2,
   "metadata": {},
   "outputs": [
    {
     "data": {
      "text/html": [
       "<div>\n",
       "<style scoped>\n",
       "    .dataframe tbody tr th:only-of-type {\n",
       "        vertical-align: middle;\n",
       "    }\n",
       "\n",
       "    .dataframe tbody tr th {\n",
       "        vertical-align: top;\n",
       "    }\n",
       "\n",
       "    .dataframe thead th {\n",
       "        text-align: right;\n",
       "    }\n",
       "</style>\n",
       "<table border=\"1\" class=\"dataframe\">\n",
       "  <thead>\n",
       "    <tr style=\"text-align: right;\">\n",
       "      <th></th>\n",
       "      <th>0</th>\n",
       "      <th>1</th>\n",
       "      <th>2</th>\n",
       "      <th>3</th>\n",
       "      <th>4</th>\n",
       "      <th>5</th>\n",
       "    </tr>\n",
       "  </thead>\n",
       "  <tbody>\n",
       "    <tr>\n",
       "      <th>0</th>\n",
       "      <td>Theodora</td>\n",
       "      <td>Stückler</td>\n",
       "      <td>2010-09-12</td>\n",
       "      <td>Luttenbergerweg 0/8. 1991 Althofen</td>\n",
       "      <td>Austria</td>\n",
       "      <td>6.216544</td>\n",
       "    </tr>\n",
       "    <tr>\n",
       "      <th>1</th>\n",
       "      <td>Inga</td>\n",
       "      <td>Poulsen</td>\n",
       "      <td>2015-03-11</td>\n",
       "      <td>3441 Nørgaard Branch. Palleborough, LA 62197</td>\n",
       "      <td>Denmark</td>\n",
       "      <td>8.668031</td>\n",
       "    </tr>\n",
       "    <tr>\n",
       "      <th>2</th>\n",
       "      <td>Luka</td>\n",
       "      <td>Kunz</td>\n",
       "      <td>2017-07-14</td>\n",
       "      <td>Bodnerstraße 4/9. 6178 Mannersdorf am Leithage...</td>\n",
       "      <td>Austria</td>\n",
       "      <td>10.000000</td>\n",
       "    </tr>\n",
       "    <tr>\n",
       "      <th>3</th>\n",
       "      <td>Ιερεμίας</td>\n",
       "      <td>Παπασπηλιωτοπούλου</td>\n",
       "      <td>2019-06-13</td>\n",
       "      <td>Δημητρητσίου 920,. ΤΚ 20530 Σέρρες</td>\n",
       "      <td>Greece</td>\n",
       "      <td>10.000000</td>\n",
       "    </tr>\n",
       "    <tr>\n",
       "      <th>4</th>\n",
       "      <td>Carla</td>\n",
       "      <td>Pudjiastuti</td>\n",
       "      <td>2018-07-20</td>\n",
       "      <td>Jalan Stasiun Wonokromo No. 146. Magelang, LA ...</td>\n",
       "      <td>Indonesia</td>\n",
       "      <td>7.339111</td>\n",
       "    </tr>\n",
       "  </tbody>\n",
       "</table>\n",
       "</div>"
      ],
      "text/plain": [
       "          0                   1           2  \\\n",
       "0  Theodora            Stückler  2010-09-12   \n",
       "1      Inga             Poulsen  2015-03-11   \n",
       "2      Luka                Kunz  2017-07-14   \n",
       "3  Ιερεμίας  Παπασπηλιωτοπούλου  2019-06-13   \n",
       "4     Carla         Pudjiastuti  2018-07-20   \n",
       "\n",
       "                                                   3          4          5  \n",
       "0                 Luttenbergerweg 0/8. 1991 Althofen    Austria   6.216544  \n",
       "1       3441 Nørgaard Branch. Palleborough, LA 62197    Denmark   8.668031  \n",
       "2  Bodnerstraße 4/9. 6178 Mannersdorf am Leithage...    Austria  10.000000  \n",
       "3                 Δημητρητσίου 920,. ΤΚ 20530 Σέρρες     Greece  10.000000  \n",
       "4  Jalan Stasiun Wonokromo No. 146. Magelang, LA ...  Indonesia   7.339111  "
      ]
     },
     "execution_count": 2,
     "metadata": {},
     "output_type": "execute_result"
    }
   ],
   "source": [
    "import pandas as pd\n",
    "empdata = pd.read_csv('../../kids.csv', index_col=False, delimiter = ',', header=None)\n",
    "empdata.head()"
   ]
  },
  {
   "cell_type": "code",
   "execution_count": 17,
   "metadata": {},
   "outputs": [
    {
     "name": "stdout",
     "output_type": "stream",
     "text": [
      "Error while connecting to MySQL 2003: Can't connect to MySQL server on 'localhost:3306' (61 Connection refused)\n"
     ]
    }
   ],
   "source": [
    "import mysql.connector as msql\n",
    "from mysql.connector import Error\n",
    "try:\n",
    "    conn = msql.connect(host='localhost', user='sa', password='miContrasena123')\n",
    "    if conn.is_connected():\n",
    "        cursor = conn.cursor()\n",
    "        cursor.execute(\"CREATE DATABASE kid\")\n",
    "        print(\"Database is created\")\n",
    "except Error as e:\n",
    "    print(\"Error while connecting to MySQL\", e)"
   ]
  }
 ],
 "metadata": {
  "kernelspec": {
   "display_name": "Python 3",
   "language": "python",
   "name": "python3"
  },
  "language_info": {
   "codemirror_mode": {
    "name": "ipython",
    "version": 3
   },
   "file_extension": ".py",
   "mimetype": "text/x-python",
   "name": "python",
   "nbconvert_exporter": "python",
   "pygments_lexer": "ipython3",
   "version": "3.8.3"
  }
 },
 "nbformat": 4,
 "nbformat_minor": 4
}
